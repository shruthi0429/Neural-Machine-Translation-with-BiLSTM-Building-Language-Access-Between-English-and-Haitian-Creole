{
  "cells": [
    {
      "cell_type": "code",
      "execution_count": 1,
      "metadata": {
        "id": "7ETtrluIwJQI"
      },
      "outputs": [],
      "source": [
        "import torch\n",
        "import torch.nn as nn\n",
        "from torch.nn import functional as F\n",
        "from tokenizers import Tokenizer, models, trainers, pre_tokenizers\n",
        "import pandas as pd\n",
        "import re\n",
        "import random\n",
        "import os\n",
        "import csv\n",
        "import json\n",
        "import matplotlib.pyplot as plt"
      ]
    },
    {
      "cell_type": "code",
      "execution_count": 2,
      "metadata": {
        "colab": {
          "base_uri": "https://localhost:8080/"
        },
        "id": "njMNWMv3wOo2",
        "outputId": "24ad01ad-cb62-4b33-8c8a-a3f421964495"
      },
      "outputs": [
        {
          "output_type": "stream",
          "name": "stdout",
          "text": [
            "Drive already mounted at /content/drive; to attempt to forcibly remount, call drive.mount(\"/content/drive\", force_remount=True).\n"
          ]
        }
      ],
      "source": [
        "from google.colab import drive\n",
        "drive.mount('/content/drive')"
      ]
    },
    {
      "cell_type": "code",
      "execution_count": 3,
      "metadata": {
        "colab": {
          "base_uri": "https://localhost:8080/"
        },
        "id": "SDFEQ6YMwRBQ",
        "outputId": "08e09cd4-e7d5-44f0-dd6d-f6ffccdbce10"
      },
      "outputs": [
        {
          "output_type": "stream",
          "name": "stdout",
          "text": [
            "Using CUDA. Device: NVIDIA A100-SXM4-40GB\n"
          ]
        }
      ],
      "source": [
        "device = torch.device(\"cuda\" if torch.cuda.is_available() else \"cpu\")\n",
        "if device.type == \"cuda\":\n",
        "    print(f\"Using CUDA. Device: {torch.cuda.get_device_name(0)}\")\n",
        "else:\n",
        "    print(\"CUDA is not available. Using CPU.\")"
      ]
    },
    {
      "cell_type": "markdown",
      "metadata": {
        "id": "919sD212xPUE"
      },
      "source": [
        "#Data PreProcessing"
      ]
    },
    {
      "cell_type": "code",
      "source": [
        "from transformers import AutoTokenizer\n",
        "tokenizer_en_to_ht = AutoTokenizer.from_pretrained(\"bert-base-uncased\")\n",
        "tokenizer_ht_to_en = AutoTokenizer.from_pretrained(\"bert-base-uncased\")"
      ],
      "metadata": {
        "id": "D_zAEHzrdRW_",
        "colab": {
          "base_uri": "https://localhost:8080/"
        },
        "outputId": "66b1ff91-bcea-4e6c-ea65-9c655cd3b223"
      },
      "execution_count": 4,
      "outputs": [
        {
          "output_type": "stream",
          "name": "stderr",
          "text": [
            "/usr/local/lib/python3.10/dist-packages/huggingface_hub/utils/_auth.py:94: UserWarning: \n",
            "The secret `HF_TOKEN` does not exist in your Colab secrets.\n",
            "To authenticate with the Hugging Face Hub, create a token in your settings tab (https://huggingface.co/settings/tokens), set it as secret in your Google Colab and restart your session.\n",
            "You will be able to reuse this secret in all of your notebooks.\n",
            "Please note that authentication is recommended but still optional to access public models or datasets.\n",
            "  warnings.warn(\n"
          ]
        }
      ]
    },
    {
      "cell_type": "markdown",
      "metadata": {
        "id": "5ANZf4kwxV-T"
      },
      "source": [
        "#Hyperparamteres"
      ]
    },
    {
      "cell_type": "code",
      "execution_count": 5,
      "metadata": {
        "id": "ZCVMwa0RxIi0"
      },
      "outputs": [],
      "source": [
        "# Hyperparameters\n",
        "batch_size = 128 # This defines the number of samples processed in one forward/backward pass of the model.\n",
        "block_size = 16  # sequence length || This represents the length of the input sequences the model will process.\n",
        "max_iters = 5000 # This sets the maximum number of training iterations (or steps) the model will perform.\n",
        "                 # The training will stop after this many iterations, even if other stopping criteria haven't been met.\n",
        "eval_interval = 100 # This determines how often the model's performance is evaluated during training.\n",
        "learning_rate = 1e-3 # This controls the step size at each iteration while moving toward a minimum of the loss function.\n",
        "device = 'cuda' if torch.cuda.is_available() else 'cpu'\n",
        "eval_iters = 200\n",
        "n_embd = 128 #  Refers to the dimensionality of the embedding space.\n",
        "n_hidden = 256\n",
        "dropout = 0.2 # Dropout is a regularization technique to prevent overfitting.\n",
        "num_epochs = 10"
      ]
    },
    {
      "cell_type": "markdown",
      "metadata": {
        "id": "X_NwBZenxh_2"
      },
      "source": [
        "#Data Preparation"
      ]
    },
    {
      "cell_type": "code",
      "execution_count": 6,
      "metadata": {
        "id": "gHkECsbuxaga",
        "colab": {
          "base_uri": "https://localhost:8080/"
        },
        "outputId": "608a74df-b23f-4ae8-d7fd-d69fe0ca59d1"
      },
      "outputs": [
        {
          "output_type": "stream",
          "name": "stdout",
          "text": [
            "Sample of tokenized_en_ht: [[101, 1026, 1055, 1028, 102, 0, 0, 0, 0, 0, 0, 0, 0, 0, 0, 0, 0, 0, 0, 0, 0, 0, 0, 0, 0, 0, 0, 0, 0, 0, 0, 0], [101, 1026, 4372, 1028, 2507, 2093, 10247, 2005, 6595, 7965, 1012, 1026, 1013, 4372, 1028, 102, 0, 0, 0, 0, 0, 0, 0, 0, 0, 0, 0, 0, 0, 0, 0, 0]]\n",
            "Type of first element: <class 'list'>\n",
            "Maximum token value in en_ht dataset: 29611\n",
            "Maximum token value in ht_en dataset: 29611\n",
            "Input vocab size for English-to-Haitian: 19666, Output vocab size: 19666\n",
            "Input vocab size for Haitian-to-English: 19666, Output vocab size: 19666\n"
          ]
        }
      ],
      "source": [
        "with open('/content/drive/My Drive/tokenized_en_ht.json', 'r') as f:\n",
        "    tokenized_en_ht = json.load(f)\n",
        "\n",
        "with open('/content/drive/My Drive/tokenized_ht_en.json', 'r') as f:\n",
        "    tokenized_ht_en = json.load(f)\n",
        "\n",
        "# First, let's examine the structure of your data\n",
        "print(\"Sample of tokenized_en_ht:\", tokenized_en_ht[:2])\n",
        "print(\"Type of first element:\", type(tokenized_en_ht[0]))\n",
        "\n",
        "# Modified code to find maximum token value\n",
        "max_token_en_ht = max(max(tokens) if isinstance(tokens, list) else tokens for tokens in tokenized_en_ht)\n",
        "max_token_ht_en = max(max(tokens) if isinstance(tokens, list) else tokens for tokens in tokenized_ht_en)\n",
        "\n",
        "print(f\"Maximum token value in en_ht dataset: {max_token_en_ht}\")\n",
        "print(f\"Maximum token value in ht_en dataset: {max_token_ht_en}\")\n",
        "\n",
        "def get_vocab_size(tokenized_data):\n",
        "    vocab_set = set()\n",
        "    for tokens in tokenized_data:\n",
        "        vocab_set.update(tokens)\n",
        "    return len(vocab_set)\n",
        "\n",
        "# Vocab sizes for English-to-Haitian\n",
        "input_vocab_size_en_to_ht = get_vocab_size(tokenized_en_ht)\n",
        "output_vocab_size_en_to_ht = get_vocab_size(tokenized_ht_en)\n",
        "\n",
        "# Vocab sizes for Haitian-to-English\n",
        "input_vocab_size_ht_to_en = get_vocab_size(tokenized_ht_en)\n",
        "output_vocab_size_ht_to_en = get_vocab_size(tokenized_en_ht)\n",
        "\n",
        "print(f\"Input vocab size for English-to-Haitian: {input_vocab_size_en_to_ht}, Output vocab size: {output_vocab_size_en_to_ht}\")\n",
        "print(f\"Input vocab size for Haitian-to-English: {input_vocab_size_ht_to_en}, Output vocab size: {output_vocab_size_ht_to_en}\")"
      ]
    },
    {
      "cell_type": "code",
      "source": [
        "#Splitting data for train and val\n",
        "\n",
        "total_subset_size = 20000\n",
        "train_ratio = 0.8  # 80% for training\n",
        "val_ratio = 0.2    # 20% for validation\n",
        "\n",
        "# Shuffle the data\n",
        "random.seed(42)\n",
        "random.shuffle(tokenized_en_ht)\n",
        "random.shuffle(tokenized_ht_en)\n",
        "\n",
        "#Subset of data\n",
        "subset_en_ht = tokenized_en_ht[:total_subset_size]\n",
        "subset_ht_en = tokenized_ht_en[:total_subset_size]\n",
        "\n",
        "# Calculate the split indices for the subsets\n",
        "train_size_en_ht = int(total_subset_size * train_ratio)\n",
        "train_size_ht_en = int(total_subset_size * train_ratio)\n",
        "\n",
        "# Split the subsetted data\n",
        "train_data_en_to_ht = subset_en_ht[:train_size_en_ht]\n",
        "val_data_en_to_ht = subset_en_ht[train_size_en_ht:]\n",
        "\n",
        "train_data_ht_to_en = subset_ht_en[:train_size_ht_en]\n",
        "val_data_ht_to_en = subset_ht_en[train_size_ht_en:]\n",
        "\n",
        "print(f\"Training data (en_to_ht): {len(train_data_en_to_ht)} sentences\")\n",
        "print(f\"Validation data (en_to_ht): {len(val_data_en_to_ht)} sentences\")\n",
        "print(f\"Training data (ht_to_en): {len(train_data_ht_to_en)} sentences\")\n",
        "print(f\"Validation data (ht_to_en): {len(val_data_ht_to_en)} sentences\")\n"
      ],
      "metadata": {
        "colab": {
          "base_uri": "https://localhost:8080/"
        },
        "id": "pp_D0zaPcgow",
        "outputId": "6e7d3b7d-e6f6-4869-8e49-bb26f773f733"
      },
      "execution_count": 7,
      "outputs": [
        {
          "output_type": "stream",
          "name": "stdout",
          "text": [
            "Training data (en_to_ht): 16000 sentences\n",
            "Validation data (en_to_ht): 4000 sentences\n",
            "Training data (ht_to_en): 16000 sentences\n",
            "Validation data (ht_to_en): 4000 sentences\n"
          ]
        }
      ]
    },
    {
      "cell_type": "markdown",
      "metadata": {
        "id": "EpQLhRU6yTjG"
      },
      "source": [
        "#Model"
      ]
    },
    {
      "cell_type": "code",
      "execution_count": 8,
      "metadata": {
        "id": "Fi45VMzWxyN6"
      },
      "outputs": [],
      "source": [
        "class LSTMTranslator(nn.Module):\n",
        "    def __init__(self, input_vocab_size, output_vocab_size, embed_size, hidden_size, dropout):\n",
        "        super(LSTMTranslator, self).__init__()\n",
        "        self.embedding = nn.Embedding(input_vocab_size, embed_size)\n",
        "        self.lstm = nn.LSTM(embed_size, hidden_size, num_layers=2, batch_first=True, dropout=dropout, bidirectional=True)\n",
        "        self.fc = nn.Linear(hidden_size * 2, output_vocab_size)\n",
        "\n",
        "    def forward(self, input_seq):\n",
        "        embedded = self.embedding(input_seq)\n",
        "        output, (hidden, cell) = self.lstm(embedded)\n",
        "        output = self.fc(output)\n",
        "        return output"
      ]
    },
    {
      "cell_type": "code",
      "execution_count": 9,
      "metadata": {
        "id": "q6vIqMwbyZkO"
      },
      "outputs": [],
      "source": [
        "def get_batch(split, lang_pair):\n",
        "    if lang_pair == 'en_to_ht':\n",
        "\n",
        "        data = train_data_en_to_ht if split == 'train' else val_data_en_to_ht\n",
        "    elif lang_pair == 'ht_to_en':\n",
        "        data = train_data_ht_to_en if split == 'train' else val_data_ht_to_en\n",
        "    else:\n",
        "        raise ValueError(\"Invalid language pair\")\n",
        "\n",
        "    ix = torch.randint(len(data) - block_size, (batch_size,))\n",
        "    x = torch.tensor([[min(token, vocab_size - 1) for token in data[i][:block_size]]\n",
        "        for i in ix\n",
        "    ], dtype=torch.long)\n",
        "\n",
        "    y = torch.tensor([\n",
        "        [min(token, vocab_size - 1) for token in data[i][1:block_size+1]]\n",
        "        for i in ix\n",
        "    ], dtype=torch.long)\n",
        "    return x.to(device), y.to(device)\n"
      ]
    },
    {
      "cell_type": "code",
      "execution_count": 10,
      "metadata": {
        "id": "onD42Zb0yd6x"
      },
      "outputs": [],
      "source": [
        "@torch.no_grad()\n",
        "def estimate_loss(model, criterion, eval_iters, device):\n",
        "    out = {}\n",
        "    model.eval()\n",
        "\n",
        "    # For both language pairs (en-to-ht and ht-to-en)\n",
        "    for lang_pair in ['en_to_ht', 'ht_to_en']:\n",
        "        losses = torch.zeros(eval_iters, device=device)\n",
        "\n",
        "        for k in range(eval_iters):\n",
        "            X, Y = get_batch('train', lang_pair)\n",
        "            output = model(X)  # Forward pass\n",
        "            B, T, V = output.shape\n",
        "            loss = criterion(output.view(B * T, V), Y.view(B * T))  # Calculate loss\n",
        "            losses[k] = loss.item()\n",
        "\n",
        "        out[lang_pair] = losses.mean()\n",
        "\n",
        "    model.train()\n",
        "    return out\n"
      ]
    },
    {
      "cell_type": "code",
      "source": [
        "def generate_predictions(model, val_data, tokenizer, max_length=50, device='cuda', batch_size=32):\n",
        "\n",
        "    model.eval()\n",
        "    predictions = []\n",
        "\n",
        "    # Process in batches\n",
        "    for i in range(0, len(val_data), batch_size):\n",
        "        batch = val_data[i:i + batch_size]\n",
        "\n",
        "        # Convert batch to tensors\n",
        "        if isinstance(batch[0], list):\n",
        "            batch_tokens = torch.tensor(batch).to(device)\n",
        "        else:\n",
        "            # If input needs tokenization\n",
        "            batch_tokens = torch.tensor([\n",
        "                tokenizer.encode(sent, padding='max_length', max_length=max_length, truncation=True)\n",
        "                for sent in batch\n",
        "            ]).to(device)\n",
        "\n",
        "        with torch.no_grad():\n",
        "            outputs = model(batch_tokens)\n",
        "            pred_tokens = outputs.argmax(dim=-1)\n",
        "\n",
        "            # Decode predictions\n",
        "            for pred in pred_tokens:\n",
        "                try:\n",
        "                    pred_text = tokenizer.decode(pred.tolist(), skip_special_tokens=True).strip()\n",
        "                    predictions.append(pred_text if pred_text else \"\")\n",
        "                except Exception as e:\n",
        "                    print(f\"Error decoding prediction: {e}\")\n",
        "                    predictions.append(\"\")\n",
        "\n",
        "\n",
        "    return predictions\n",
        "\n",
        ""
      ],
      "metadata": {
        "id": "X5fsunOuej9M"
      },
      "execution_count": 11,
      "outputs": []
    },
    {
      "cell_type": "markdown",
      "source": [
        "#Training"
      ],
      "metadata": {
        "id": "D4gjIdJUt5Ln"
      }
    },
    {
      "cell_type": "code",
      "execution_count": 12,
      "metadata": {
        "id": "4_i4tkBhyr05"
      },
      "outputs": [],
      "source": [
        "#maximum token value + 2(for padding)\n",
        "vocab_size = 29611 + 2\n",
        "\n",
        "#Model Definition\n",
        "model_en_to_ht = LSTMTranslator(vocab_size, vocab_size, embed_size=128, hidden_size=256, dropout=0.1).to(device)\n",
        "model_ht_to_en = LSTMTranslator(vocab_size, vocab_size, embed_size=128, hidden_size=256, dropout=0.1).to(device)\n",
        "\n",
        "optimizer_en_to_ht = torch.optim.Adam(model_en_to_ht.parameters(), lr=learning_rate)\n",
        "optimizer_ht_to_en = torch.optim.Adam(model_ht_to_en.parameters(), lr=learning_rate)\n",
        "\n",
        "criterion = nn.CrossEntropyLoss()\n"
      ]
    },
    {
      "cell_type": "code",
      "source": [
        "pip install sacrebleu"
      ],
      "metadata": {
        "colab": {
          "base_uri": "https://localhost:8080/"
        },
        "id": "9VIF4_byeM9E",
        "outputId": "584cc704-2f32-4755-a5fb-212e9d19ccfc"
      },
      "execution_count": 13,
      "outputs": [
        {
          "output_type": "stream",
          "name": "stdout",
          "text": [
            "Requirement already satisfied: sacrebleu in /usr/local/lib/python3.10/dist-packages (2.4.3)\n",
            "Requirement already satisfied: portalocker in /usr/local/lib/python3.10/dist-packages (from sacrebleu) (2.10.1)\n",
            "Requirement already satisfied: regex in /usr/local/lib/python3.10/dist-packages (from sacrebleu) (2024.9.11)\n",
            "Requirement already satisfied: tabulate>=0.8.9 in /usr/local/lib/python3.10/dist-packages (from sacrebleu) (0.9.0)\n",
            "Requirement already satisfied: numpy>=1.17 in /usr/local/lib/python3.10/dist-packages (from sacrebleu) (1.26.4)\n",
            "Requirement already satisfied: colorama in /usr/local/lib/python3.10/dist-packages (from sacrebleu) (0.4.6)\n",
            "Requirement already satisfied: lxml in /usr/local/lib/python3.10/dist-packages (from sacrebleu) (5.3.0)\n"
          ]
        }
      ]
    },
    {
      "cell_type": "code",
      "execution_count": 14,
      "metadata": {
        "id": "Qh5Y17wSy41X",
        "colab": {
          "base_uri": "https://localhost:8080/"
        },
        "outputId": "d7c6e6ea-da2d-430f-d203-fd2b02229f5e"
      },
      "outputs": [
        {
          "output_type": "stream",
          "name": "stdout",
          "text": [
            "\n",
            "Epoch 1/10:\n",
            "Train Loss - En->Ht: 2.5620, Ht->En: 2.5262\n",
            "Val Loss - En->Ht: 5.8082, Ht->En: 5.7785\n",
            "BLEU Score - En->Ht: 0.00 BLEU Score - Ht->En: 0.55\n",
            "CHRF Score - En->Ht: 3.63 CHRF Score - Ht->En: 4.12\n",
            "\n",
            "Epoch 2/10:\n",
            "Train Loss - En->Ht: 1.2343, Ht->En: 1.1706\n",
            "Val Loss - En->Ht: 1.2793, Ht->En: 1.2703\n",
            "BLEU Score - En->Ht: 0.00 BLEU Score - Ht->En: 0.09\n",
            "CHRF Score - En->Ht: 4.67 CHRF Score - Ht->En: 2.55\n",
            "\n",
            "Epoch 3/10:\n",
            "Train Loss - En->Ht: 0.6871, Ht->En: 0.6700\n",
            "Val Loss - En->Ht: 0.7196, Ht->En: 0.7118\n",
            "BLEU Score - En->Ht: 0.00 BLEU Score - Ht->En: 0.17\n",
            "CHRF Score - En->Ht: 3.00 CHRF Score - Ht->En: 2.02\n",
            "\n",
            "Epoch 4/10:\n",
            "Train Loss - En->Ht: 0.4221, Ht->En: 0.4211\n",
            "Val Loss - En->Ht: 0.4370, Ht->En: 0.4322\n",
            "BLEU Score - En->Ht: 0.00 BLEU Score - Ht->En: 0.16\n",
            "CHRF Score - En->Ht: 2.80 CHRF Score - Ht->En: 2.48\n",
            "\n",
            "Epoch 5/10:\n",
            "Train Loss - En->Ht: 0.2763, Ht->En: 0.2738\n",
            "Val Loss - En->Ht: 0.2839, Ht->En: 0.2734\n",
            "BLEU Score - En->Ht: 0.00 BLEU Score - Ht->En: 0.14\n",
            "CHRF Score - En->Ht: 2.60 CHRF Score - Ht->En: 2.69\n",
            "\n",
            "Epoch 6/10:\n",
            "Train Loss - En->Ht: 0.1862, Ht->En: 0.1809\n",
            "Val Loss - En->Ht: 0.1811, Ht->En: 0.1811\n",
            "BLEU Score - En->Ht: 0.00 BLEU Score - Ht->En: 0.14\n",
            "CHRF Score - En->Ht: 2.61 CHRF Score - Ht->En: 2.54\n",
            "\n",
            "Epoch 7/10:\n",
            "Train Loss - En->Ht: 0.1220, Ht->En: 0.1248\n",
            "Val Loss - En->Ht: 0.1225, Ht->En: 0.1222\n",
            "BLEU Score - En->Ht: 0.00 BLEU Score - Ht->En: 0.14\n",
            "CHRF Score - En->Ht: 2.71 CHRF Score - Ht->En: 2.40\n",
            "\n",
            "Epoch 8/10:\n",
            "Train Loss - En->Ht: 0.0850, Ht->En: 0.0854\n",
            "Val Loss - En->Ht: 0.0858, Ht->En: 0.0866\n",
            "BLEU Score - En->Ht: 0.00 BLEU Score - Ht->En: 0.14\n",
            "CHRF Score - En->Ht: 2.82 CHRF Score - Ht->En: 2.38\n",
            "\n",
            "Epoch 9/10:\n",
            "Train Loss - En->Ht: 0.0645, Ht->En: 0.0651\n",
            "Val Loss - En->Ht: 0.0611, Ht->En: 0.0619\n",
            "BLEU Score - En->Ht: 0.00 BLEU Score - Ht->En: 0.14\n",
            "CHRF Score - En->Ht: 2.69 CHRF Score - Ht->En: 2.39\n",
            "\n",
            "Epoch 10/10:\n",
            "Train Loss - En->Ht: 0.0472, Ht->En: 0.0481\n",
            "Val Loss - En->Ht: 0.0449, Ht->En: 0.0472\n",
            "BLEU Score - En->Ht: 0.00 BLEU Score - Ht->En: 0.14\n",
            "CHRF Score - En->Ht: 2.91 CHRF Score - Ht->En: 2.51\n"
          ]
        }
      ],
      "source": [
        "import sacrebleu\n",
        "import numpy as np\n",
        "\n",
        "# Preparing the CSV files\n",
        "loss_csv_file_path = '/content/drive/My Drive/lstm_losses.csv'\n",
        "with open(loss_csv_file_path, mode='w', newline='') as file:\n",
        "    writer = csv.writer(file)\n",
        "    writer.writerow(['epoch', 'avg_train_loss_en_to_ht', 'avg_train_loss_ht_to_en',\n",
        "                    'avg_val_loss_en_to_ht', 'avg_val_loss_ht_to_en'])\n",
        "\n",
        "bleu_file_path = '/content/drive/My Drive/bleu_scores.csv'\n",
        "with open(bleu_file_path, mode='w', newline='') as file:\n",
        "    writer = csv.writer(file)\n",
        "    writer.writerow(['epoch', 'avg_bleu_en_to_ht', 'avg_bleu_ht_to_en'])\n",
        "\n",
        "chrf_file_path = '/content/drive/My Drive/chrf_scores.csv'\n",
        "with open(chrf_file_path, mode='w', newline='') as file:\n",
        "    writer = csv.writer(file)\n",
        "    writer.writerow(['epoch', 'avg_chrf_en_to_ht', 'avg_chrf_ht_to_en'])\n",
        "\n",
        "# Training loop\n",
        "for epoch in range(num_epochs):\n",
        "    model_en_to_ht.train()\n",
        "    model_ht_to_en.train()\n",
        "\n",
        "    num_batches = len(train_data_en_to_ht) // batch_size\n",
        "\n",
        "    epoch_train_losses_en_ht = []\n",
        "    epoch_train_losses_ht_en = []\n",
        "    epoch_val_losses_en_ht = []\n",
        "    epoch_val_losses_ht_en = []\n",
        "    epoch_bleu_en_ht = []\n",
        "    epoch_bleu_ht_en = []\n",
        "    epoch_chrf_en_ht = []\n",
        "    epoch_chrf_ht_en = []\n",
        "\n",
        "    for batch_idx in range(num_batches):\n",
        "        # Training for en-to-ht\n",
        "        X, Y = get_batch('train', lang_pair='en_to_ht')\n",
        "        optimizer_en_to_ht.zero_grad()\n",
        "        output = model_en_to_ht(X)\n",
        "        B, T, V = output.shape\n",
        "        train_loss_en_ht = criterion(output.view(B * T, V), Y.view(B * T))\n",
        "        train_loss_en_ht.backward()\n",
        "        optimizer_en_to_ht.step()\n",
        "        epoch_train_losses_en_ht.append(train_loss_en_ht.item())\n",
        "\n",
        "        # Training for ht-to-en\n",
        "        X, Y = get_batch('train', lang_pair='ht_to_en')\n",
        "        optimizer_ht_to_en.zero_grad()\n",
        "        output = model_ht_to_en(X)\n",
        "        B, T, V = output.shape\n",
        "        train_loss_ht_en = criterion(output.view(B * T, V), Y.view(B * T))\n",
        "        train_loss_ht_en.backward()\n",
        "        optimizer_ht_to_en.step()\n",
        "        epoch_train_losses_ht_en.append(train_loss_ht_en.item())\n",
        "\n",
        "\n",
        "        # Evaluation phase at intervals\n",
        "        if batch_idx % eval_interval == 0:\n",
        "            model_en_to_ht.eval()\n",
        "            model_ht_to_en.eval()\n",
        "\n",
        "            with torch.no_grad():\n",
        "                # Validation losses\n",
        "                losses_en_to_ht = estimate_loss(model_en_to_ht, criterion, eval_iters, device)\n",
        "                losses_ht_to_en = estimate_loss(model_ht_to_en, criterion, eval_iters, device)\n",
        "\n",
        "                val_loss_en_ht = losses_en_to_ht['en_to_ht']\n",
        "                val_loss_ht_en = losses_ht_to_en['ht_to_en']\n",
        "\n",
        "                if isinstance(val_loss_en_ht, torch.Tensor):\n",
        "                    val_loss_en_ht = val_loss_en_ht.cpu().item()\n",
        "                if isinstance(val_loss_ht_en, torch.Tensor):\n",
        "                    val_loss_ht_en = val_loss_ht_en.cpu().item()\n",
        "\n",
        "                epoch_val_losses_en_ht.append(val_loss_en_ht)\n",
        "                epoch_val_losses_ht_en.append(val_loss_ht_en)\n",
        "\n",
        "                # Generating predictions for evaluation\n",
        "                eval_sample_size = 100\n",
        "                val_data_en_to_ht_sampled = val_data_en_to_ht[:eval_sample_size]\n",
        "                val_data_ht_to_en_sampled = val_data_ht_to_en[:eval_sample_size]\n",
        "\n",
        "                predictions_en_to_ht = generate_predictions(model_en_to_ht, val_data_en_to_ht_sampled, tokenizer_en_to_ht, max_length=50, device=device)\n",
        "                predictions_ht_to_en = generate_predictions(model_ht_to_en, val_data_ht_to_en_sampled, tokenizer_ht_to_en, max_length=50, device=device)\n",
        "\n",
        "                predictions_en_to_ht = [str(pred) if pred else \"\" for pred in predictions_en_to_ht]\n",
        "                predictions_ht_to_en = [str(pred) if pred else \"\" for pred in predictions_ht_to_en]\n",
        "\n",
        "                references_en_to_ht = [[str(ref)] for ref in val_data_en_to_ht_sampled]\n",
        "                references_ht_to_en = [[str(ref)] for ref in val_data_ht_to_en_sampled]\n",
        "\n",
        "                # Calculating metrics\n",
        "                bleu_en_to_ht = sacrebleu.corpus_bleu(predictions_en_to_ht, references_en_to_ht).score\n",
        "                bleu_ht_to_en = sacrebleu.corpus_bleu(predictions_ht_to_en, references_ht_to_en).score\n",
        "                epoch_bleu_en_ht.append(bleu_en_to_ht)\n",
        "                epoch_bleu_ht_en.append(bleu_ht_to_en)\n",
        "\n",
        "                chrf_en_to_ht = sacrebleu.corpus_chrf(predictions_en_to_ht, [str(ref[0]) for ref in references_en_to_ht]).score\n",
        "                chrf_ht_to_en = sacrebleu.corpus_chrf(predictions_ht_to_en, [str(ref[0]) for ref in references_ht_to_en]).score\n",
        "                epoch_chrf_en_ht.append(chrf_en_to_ht)\n",
        "                epoch_chrf_ht_en.append(chrf_ht_to_en)\n",
        "\n",
        "            model_en_to_ht.train()\n",
        "            model_ht_to_en.train()\n",
        "\n",
        "    # Calculating epoch averages\n",
        "    avg_train_loss_en_ht = np.mean(epoch_train_losses_en_ht)\n",
        "    avg_train_loss_ht_en = np.mean(epoch_train_losses_ht_en)\n",
        "    avg_val_loss_en_ht = np.mean(epoch_val_losses_en_ht)\n",
        "    avg_val_loss_ht_en = np.mean(epoch_val_losses_ht_en)\n",
        "    avg_bleu_en_ht = np.mean(epoch_bleu_en_ht)\n",
        "    avg_bleu_ht_en = np.mean(epoch_bleu_ht_en)\n",
        "    avg_chrf_en_ht = np.mean(epoch_chrf_en_ht)\n",
        "    avg_chrf_ht_en = np.mean(epoch_chrf_ht_en)\n",
        "\n",
        "\n",
        "    print(f\"\\nEpoch {epoch+1}/{num_epochs}:\")\n",
        "    print(f\"Train Loss - En->Ht: {avg_train_loss_en_ht:.4f}, Ht->En: {avg_train_loss_ht_en:.4f}\")\n",
        "    print(f\"Val Loss - En->Ht: {avg_val_loss_en_ht:.4f}, Ht->En: {avg_val_loss_ht_en:.4f}\")\n",
        "    print(f\"BLEU Score - En->Ht: {avg_bleu_en_ht:.2f}\", f\"BLEU Score - Ht->En: {avg_bleu_ht_en:.2f}\")\n",
        "    print(f\"CHRF Score - En->Ht: {avg_chrf_en_ht:.2f}\", f\"CHRF Score - Ht->En: {avg_chrf_ht_en:.2f}\")\n",
        "\n",
        "\n",
        "    with open(loss_csv_file_path, mode='a', newline='') as file:\n",
        "        writer = csv.writer(file)\n",
        "        writer.writerow([epoch,\n",
        "                        avg_train_loss_en_ht, avg_train_loss_ht_en,\n",
        "                        avg_val_loss_en_ht, avg_val_loss_ht_en])\n",
        "\n",
        "    with open(bleu_file_path, mode='a', newline='') as file:\n",
        "        writer = csv.writer(file)\n",
        "        writer.writerow([epoch, avg_bleu_en_ht, avg_bleu_ht_en])\n",
        "\n",
        "    with open(chrf_file_path, mode='a', newline='') as file:\n",
        "        writer = csv.writer(file)\n",
        "        writer.writerow([epoch, avg_chrf_en_ht, avg_chrf_ht_en])\n",
        "\n",
        "# Save the final models\n",
        "torch.save(model_en_to_ht.state_dict(), '/content/drive/My Drive/model_en_to_ht.pth')\n",
        "torch.save(model_ht_to_en.state_dict(), '/content/drive/My Drive/model_ht_to_en.pth')"
      ]
    },
    {
      "cell_type": "code",
      "source": [
        "#Training and Validation Plot\n",
        "import matplotlib.pyplot as plt\n",
        "import pandas as pd\n",
        "\n",
        "df = pd.read_csv('/content/drive/My Drive/lstm_losses.csv')\n",
        "\n",
        "plt.figure(figsize=(10, 5))\n",
        "\n",
        "# Plot training losses\n",
        "plt.plot(df['epoch'], df['avg_train_loss_en_to_ht'], marker='o', label='Train Loss (En->Ht)', color='blue')\n",
        "plt.plot(df['epoch'], df['avg_train_loss_ht_to_en'], marker='o', label='Train Loss (Ht->En)', color='green')\n",
        "\n",
        "# Plot validation losses\n",
        "plt.plot(df['epoch'], df['avg_val_loss_en_to_ht'], marker='s', label='Val Loss (En->Ht)', color='red')\n",
        "plt.plot(df['epoch'], df['avg_val_loss_ht_to_en'], marker='s', label='Val Loss (Ht->En)', color='purple')\n",
        "\n",
        "plt.title('Training and Validation Losses Over Epochs', pad=20, size=14)\n",
        "plt.xlabel('Epoch', size=12)\n",
        "plt.ylabel('Loss', size=12)\n",
        "plt.grid(True, linestyle='--', alpha=0.7)\n",
        "plt.legend(fontsize=10)\n",
        "plt.tight_layout()\n",
        "plt.show()\n"
      ],
      "metadata": {
        "colab": {
          "base_uri": "https://localhost:8080/",
          "height": 506
        },
        "id": "2PThifM4h6wh",
        "outputId": "a293aed3-b766-4da4-b462-1eea897209fd"
      },
      "execution_count": 17,
      "outputs": [
        {
          "output_type": "display_data",
          "data": {
            "text/plain": [
              "<Figure size 1000x500 with 1 Axes>"
            ],
            "image/png": "[encoded data removed]"
          },
          "metadata": {}
        }
      ]
    }
  ],
  "metadata": {
    "accelerator": "GPU",
    "colab": {
      "gpuType": "A100",
      "machine_shape": "hm",
      "provenance": []
    },
    "kernelspec": {
      "display_name": "Python 3",
      "name": "python3"
    },
    "language_info": {
      "name": "python"
    }
  },
  "nbformat": 4,
  "nbformat_minor": 0
}